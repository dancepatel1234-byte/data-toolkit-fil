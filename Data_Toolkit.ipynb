{
  "nbformat": 4,
  "nbformat_minor": 0,
  "metadata": {
    "colab": {
      "provenance": []
    },
    "kernelspec": {
      "name": "python3",
      "display_name": "Python 3"
    },
    "language_info": {
      "name": "python"
    }
  },
  "cells": [
    {
      "cell_type": "markdown",
      "source": [
        "Q1. What is NumPy, and why is it widely used in Python?\n",
        "\n",
        "The core data structure in NumPy is the ndarray (n-dimensional array), which is a homogeneous container for elements of the same data type.\n",
        "\n",
        "NumPy is widely used in Python for several key reasons:\n",
        "\n",
        "**Performance:**\n",
        "NumPy arrays are significantly faster and more memory-efficient than standard Python lists for numerical operations. This is due to their underlying implementation in C and the use of contiguous memory allocation, which allows for vectorized operations and efficient use of CPU caches.\n",
        "\n",
        "**Multi-dimensional Arrays:**\n",
        "Python's built-in lists do not natively support multi-dimensional arrays, which are crucial for representing data like images, matrices, and tensors. NumPy's ndarray provides this capability, enabling efficient manipulation of such data structures.\n",
        "\n",
        "**Rich Functionality:**\n",
        "NumPy offers a vast collection of mathematical functions for linear algebra, Fourier transforms, random number generation, statistical operations, and more. This extensive toolkit simplifies complex numerical computations.\n",
        "\n",
        "**Foundation for Scientific Computing:**\n",
        "NumPy serves as the bedrock for many other prominent libraries in the Python scientific computing ecosystem, including SciPy, Matplotlib, scikit-learn, and Pandas. Its efficient array operations are leveraged by these libraries for various data analysis, visualization, and machine learning tasks.\n",
        "\n",
        "**Ease of Use:**\n",
        "Despite its powerful capabilities, NumPy provides a relatively simple and intuitive API, making it accessible to both beginners and experienced Python developers for performing numerical operations."
      ],
      "metadata": {
        "id": "bE8cn3H42HDM"
      }
    },
    {
      "cell_type": "markdown",
      "source": [
        " Q2. How does broadcasting work in NumPy?\n",
        "  It enables element-wise operations without requiring the arrays to have exactly the same dimensions, thus simplifying code and often improving performance by avoiding explicit loops or memory copies.\n",
        "\n",
        "**How Broadcasting Works (Rules):**\n",
        "\n",
        "NumPy applies a set of rules to determine if two arrays are \"broadcastable\" and how the broadcasting occurs:\n",
        "\n",
        "**Padding with Ones:**\n",
        "\n",
        "If the two arrays have different numbers of dimensions, the shape of the array with fewer dimensions is \"padded\" with ones on its leading (left) side until it has the same number of dimensions as the larger array.\n",
        "\n",
        "* **Example:** A 1D array (3,) and a 2D array (2, 3) would have the 1D array effectively treated as (1, 3) for broadcasting purposes.\n",
        "\n",
        "**Dimension Compatibility:**\n",
        "\n",
        "For each dimension, starting from the trailing (rightmost) dimension and moving towards the leading (leftmost) dimension:\n",
        "\n",
        "*  If the dimensions are equal, they are compatible.\n",
        "* If one of the dimensions is 1, the array with the dimension of 1 is \"stretched\" or \"broadcast\" along that dimension to match the size of the other array's dimension. This means the value in the dimension of 1 is effectively repeated.\n",
        "*  If the dimensions are unequal and neither is 1, then the arrays are not compatible for broadcasting, and a ValueError is raised.\n",
        "\n",
        "**Illustrative Examples:**\n",
        "\n",
        "* **Scalar and Array:** When performing an operation between a scalar and an array, the scalar is broadcast across the entire array. For example, np.array([1, 2, 3]) + 5 results in [6, 7, 8], as the scalar 5 is broadcast to [5, 5, 5].\n",
        "\n",
        "*  **Arrays with Compatible Shapes:**\n",
        "\n",
        "\n",
        "    import numpy as np\n",
        "    a = np.array([[1, 2, 3], [4, 5, 6]])  # shape (2, 3)\n",
        "    b = np.array([10, 20, 30])           # shape (3,)\n",
        "\n",
        "    # Broadcasting: b is treated as [[10, 20, 30], [10, 20, 30]]\n",
        "    result = a + b\n",
        "    # result will be:\n",
        "    # [[11, 22, 33],\n",
        "    #  [14, 25, 36]]\n",
        "\n",
        "# Benefits of Broadcasting:\n",
        "**Conciseness:**\n",
        "Reduces the need for explicit loops, leading to more readable and compact code.\n",
        "\n",
        "**Efficiency:**\n",
        "Operations are often implemented in optimized C code, leading to significant performance gains compared to Python loops.\n",
        "\n",
        "**Memory Efficiency:**\n",
        "Broadcasting avoids creating unnecessary copies of data by conceptually stretching arrays rather than physically replicating them."
      ],
      "metadata": {
        "id": "S691maqp2G-p"
      }
    },
    {
      "cell_type": "markdown",
      "source": [
        "Q3.  What is a Pandas DataFrame?\n",
        "A Pandas DataFrame is a two-dimensional, mutable, and labeled data structure in the Pandas library for Python. It is designed to represent and work with tabular data, similar to a spreadsheet or a SQL table.\n",
        "\n",
        "**Key characteristics of a Pandas DataFrame include:**\n",
        "* Two-dimensional: It organizes data in rows and columns.\n",
        "* Labeled Axes: Both rows (index) and columns have labels, allowing for intuitive data access and manipulation.\n",
        "*  Heterogeneous Data Types: Columns can store different data types (e.g., integers, floats, strings, booleans, dates), while data within a single column is typically homogeneous.\n",
        "*  Size Mutable: Rows and columns can be added or removed after creation.\n",
        "*  Column as Series: Each column within a DataFrame is essentially a Pandas Series, which is a one-dimensional labeled array.\n",
        "\n",
        "DataFrames are a fundamental tool in data analysis and manipulation with Python, providing powerful functionalities for tasks such as data cleaning, transformation, aggregation, and analysis. They can be created from various data sources, including dictionaries, lists, NumPy arrays, CSV files, and databases"
      ],
      "metadata": {
        "id": "SCKSTxqV2G6u"
      }
    },
    {
      "cell_type": "markdown",
      "source": [
        "Q4.  Explain the use of the groupby() method in Pandas\n",
        "\n",
        "The groupby() method in Pandas is a fundamental tool for data analysis, enabling the \"split-apply-combine\" strategy. This strategy involves:\n",
        "\n",
        "**Splitting:**\n",
        "Dividing a DataFrame into groups based on one or more criteria, typically column values. For instance, you could group sales data by \"Region\" or \"Product Category\".\n",
        "\n",
        "**Applying:**\n",
        "Performing a function or operation independently on each of these generated\n",
        "\n",
        "**groups. This can involve:**\n",
        "*  **Aggregation:** Computing a summary statistic for each group (e.g., sum(), mean(), count(), min(), max()).\n",
        "\n",
        "*  **Transformation:** Applying a function to each group and returning a result with the same index as the original group (e.g., standardizing data within each group).\n",
        "* **Filtration:** Discarding entire groups based on a condition evaluated on the group (e.g., keeping only groups with more than a certain number of members).\n",
        "\n",
        "**Combining:**\n",
        "Merging the results of the operations on individual groups back into a single, cohesive DataFrame or Series.\n",
        "\n",
        "**Syntax:**\n",
        "The basic syntax for groupby() is df.groupby('column_name') or df.groupby(['column1', 'column2']) for grouping by multiple columns. This operation returns a GroupBy object, which is then typically followed by an aggregation, transformation, or filtration method to perform the desired operation and produce a result."
      ],
      "metadata": {
        "id": "yNsTx25D2G2M"
      }
    },
    {
      "cell_type": "markdown",
      "source": [
        "Q5.  Why is Seaborn preferred for statistical visualizations?\n",
        "# Here are the key reasons for its preference:\n",
        "**High-level Interface for Statistical Graphics:**\n",
        "\n",
        "Seaborn is built on Matplotlib but provides a higher-level API specifically designed for statistical plotting. This means it offers specialized functions and abstractions that streamline the creation of complex statistical plots like distribution plots, regression plots, and categorical plots with fewer lines of code compared to Matplotlib.\n",
        "\n",
        "**Aesthetic Appeal and Built-in Themes:**\n",
        "\n",
        "Seaborn comes with attractive default styles, color palettes, and themes that enhance the visual appeal and readability of plots without requiring extensive customization. This saves time and effort in creating publication-ready visualizations.\n",
        "\n",
        "**Integration with Pandas DataFrames:**\n",
        "\n",
        "Seaborn is designed to work seamlessly with Pandas DataFrames, allowing for direct plotting from structured data. This simplifies data preparation and mapping variables to visual elements within plots.\n",
        "\n",
        "**Specialized Functions for Statistical Relationships:**\n",
        "\n",
        "Seaborn provides functions tailored for visualizing statistical relationships, such as relplot for relational plots, displot for distributions, and catplot for categorical data. These functions offer convenient ways to explore and represent complex data patterns.\n",
        "\n",
        "**Simplified Handling of Complex Visualizations:**\n",
        "\n",
        "For tasks like creating multi-panel plots (e.g., using FacetGrid or PairGrid), Seaborn simplifies the process, allowing users to easily create grids of plots based on different subsets of data.\n",
        "\n"
      ],
      "metadata": {
        "id": "ceiO7wYs2GwZ"
      }
    },
    {
      "cell_type": "markdown",
      "source": [
        "Q6.   What are the differences between NumPy arrays and Python lists?\n",
        "\n",
        "NumPy arrays and Python lists are both used to store collections of data, but they differ significantly in their characteristics and intended use cases:\n",
        "\n",
        "**Homogeneity vs. Heterogeneity:**\n",
        "*  NumPy Arrays: Homogeneous, meaning all elements within a NumPy array must be of the same data type (e.g., all integers, all floats). This allows for efficient storage and optimized numerical operations.\n",
        "*  Python Lists: Heterogeneous, meaning they can store elements of different data types within the same list (e.g., integers, strings, and other objects). This offers greater flexibility.\n",
        "\n",
        "**Performance and Efficiency:**\n",
        "*  NumPy Arrays: Optimized for numerical computations and large datasets. They are implemented in C and store data in contiguous memory blocks, leading to significantly faster operations (vectorized operations) and better memory efficiency compared to Python lists, especially for mathematical calculations.\n",
        "*  Python Lists: Generally less efficient for numerical operations, especially on large datasets, as they are not optimized for this purpose and require explicit looping for element-wise operations. They can also be less memory-efficient due to storing additional overhead for each element.\n",
        "\n",
        "**Functionality:**\n",
        "* NumPy Arrays: Provide a rich set of built-in functions and methods specifically designed for numerical operations, linear algebra, Fourier transforms, statistical analysis, and more. They also support multi-dimensional arrays and broadcasting.\n",
        "*  Python Lists: Offer general-purpose data storage and manipulation, with methods for adding, removing, and sorting elements. They lack the specialized numerical functionalities found in NumPy.\n",
        "\n",
        "**Fixed Size vs. Dynamic Size:**\n",
        "* NumPy Arrays: Have a fixed size once created. Resizing an array typically involves creating a new array and copying the data.\n",
        "*  Python Lists: Dynamic in size and can be easily modified by adding or removing elements."
      ],
      "metadata": {
        "id": "-nsHrU4E2Gp4"
      }
    },
    {
      "cell_type": "markdown",
      "source": [
        "Q7. What is a heatmap, and when should it be used?\n",
        "\n",
        "A heatmap is a visual representation of data where values are depicted using colors, typically with warmer colors (like red or orange) indicating higher values and cooler colors (like blue or green) indicating lower values\n",
        "\n",
        "**When to use a heatmap:**\n",
        "\n",
        "*  **Website and App Analysis:**\n",
        "Heatmaps are frequently used in digital analytics to understand how users interact with websites and apps. They can show where users click, how far they scroll, and where they spend the most time on a page. This information helps in optimizing user experience, conversion rates, and identifying areas for improvement.\n",
        "*  **Performance Monitoring:**\n",
        "In environments like network operations centers or financial trading floors, heatmaps can visually represent the performance of key metrics in real-time, allowing for quick identification of bottlenecks or issues.\n",
        "*  **Marketing and Advertising:**\n",
        "Heatmaps can be used to assess the effectiveness of ads, determine the placement of call-to-action buttons, and understand user engagement with different marketing materials.\n",
        "*  **Manufacturing:**\n",
        "Heatmaps can be used to monitor and optimize the performance of production bays, identifying areas with defects, downtime, or other issues.\n",
        "*  **Population Studies:**\n",
        "Heatmaps can visualize data related to population demographics, such as income or employment rates, to identify trends and patterns.\n",
        "*  **Crime Analytics:**\n",
        "In crime analytics, heatmaps can show the density of criminal activity in different locations, allowing for targeted interventions.\n",
        "*  **Eye Tracking:**\n",
        "Eye tracking heatmaps, generated through eye-tracking technology, pinpoint where users look on a page, helping to optimize content placement and design.\n",
        "*  **Financial Data:**\n",
        "Heatmaps can be used to visualize correlations between different financial instruments or to track the performance of investment portfolios."
      ],
      "metadata": {
        "id": "12MNGqO82GjH"
      }
    },
    {
      "cell_type": "markdown",
      "source": [
        "Q8.  What does the term “vectorized operation” mean in NumPy?\n",
        "\n",
        "In NumPy, a \"vectorized operation\" refers to the ability to perform mathematical operations on entire arrays or subsets of arrays at once, without the need for explicit Python for loops. This approach leverages NumPy's underlying implementation, which is written in C and Fortran, allowing for significantly faster and more efficient computations compared to traditional Python loops.\n",
        "\n",
        "Key characteristics and benefits of vectorized operations in NumPy include:\n",
        "\n",
        "**Element-wise operations:**\n",
        "Vectorized operations apply a given operation to corresponding elements across entire arrays. For example, adding two NumPy arrays arr1 + arr2 will perform element-wise addition, creating a new array where each element is the sum of the corresponding elements from arr1 and arr2.\n",
        "\n",
        "**Performance optimization:**\n",
        "By offloading the looping to compiled C code, vectorized operations avoid the overhead associated with Python's interpreter, leading to substantial speed improvements, especially when dealing with large datasets.\n",
        "\n",
        "**Concise and readable code:**\n",
        "Vectorized operations often result in more compact and understandable code compared to explicit loops, as they express the intent of the operation directly on the array level.\n",
        "\n",
        "**Broadcasting:**\n",
        "NumPy's broadcasting mechanism extends the concept of vectorized operations by allowing operations on arrays of different shapes, provided they are compatible according to specific broadcasting rules. This enables operations between scalars and arrays, or arrays of different dimensions, without explicit reshaping"
      ],
      "metadata": {
        "id": "krDp8Io62GcW"
      }
    },
    {
      "cell_type": "markdown",
      "source": [
        "Q9.   How does Matplotlib differ from Plotly?\n",
        "\n",
        "Matplotlib and Plotly are both powerful Python libraries for data visualization, but they differ significantly in their primary focus and capabilities:\n",
        "\n",
        "**Interactivity vs. Static Plots:**\n",
        "\n",
        "*  **Matplotlib:** Primarily designed for creating static, publication-quality plots suitable for reports, papers, and presentations where interactivity is not required.\n",
        "*  **Plotly:** Excels in generating interactive, web-based visualizations that allow for zooming, panning, hover tooltips, and other user interactions, making it ideal for dashboards and web applications.\n",
        "\n",
        "**Ease of Use for Interactivity:**\n",
        "* **Matplotlib:** While it can achieve some level of interactivity with additional code, it's not its core strength, and setting up interactive features can be more complex.\n",
        "* **Plotly:** Built with interactivity in mind, offering straightforward methods to create dynamic and engaging visualizations. Plotly Express, a higher-level API, further simplifies the creation of interactive plots with minimal code.\n",
        "\n",
        "**Aesthetics and Default Styles:**\n",
        "*  **Matplotlib:** Provides extensive customization options, allowing fine-grained control over every aspect of a plot's appearance. However, its default styles can sometimes appear less modern compared to Plotly.\n",
        "*  **Plotly:** Offers visually appealing default themes and styles, producing elegant and modern-looking plots with less effort.\n",
        "\n",
        "**Use Cases:**\n",
        "*  **Matplotlib:** Preferred for scientific computing, academic research, and situations where precise control over plot elements and static output are paramount.\n",
        "*  **Plotly:** Best suited for web-based data exploration, interactive dashboards, and applications where user engagement and dynamic visualization are crucial."
      ],
      "metadata": {
        "id": "LTed5cBJ2GVH"
      }
    },
    {
      "cell_type": "markdown",
      "source": [
        "Q10.  What is the significance of hierarchical indexing in Pandas?\n",
        "\n",
        "Hierarchical indexing, also known as MultiIndex in pandas, is a significant feature that allows for the representation and manipulation of higher-dimensional data within one-dimensional Series and two-dimensional DataFrame objects. Its significance stems from several key advantages:\n",
        "\n",
        "**Representing Complex Relationships:**\n",
        "It enables the creation of structured group relationships within data by allowing multiple levels of indexing. This is crucial when dealing with datasets that have natural hierarchies or multiple categorical variables.\n",
        "\n",
        "**Enhanced Data Organization and Structure:**\n",
        "Hierarchical indexing provides a more intuitive and organized way to structure data, especially when dealing with complex datasets that have multiple levels of categorization. This makes the data more readable and easier to understand.\n",
        "\n",
        "**Efficient Data Selection and Subsetting:**\n",
        "It facilitates powerful and efficient data selection and subsetting operations. Users can easily slice and dice data across multiple dimensions using various indexing methods, including partial indexing and advanced slicing with tuples.\n",
        "\n",
        "**Optimized Grouping and Aggregation:**\n",
        "Hierarchical indexing greatly enhances grouping and aggregation capabilities. It allows for grouping data by multiple variables simultaneously and performing complex aggregations across different levels of the hierarchy.\n",
        "\n",
        "**Improved Data Analysis and Manipulation:**\n",
        "By providing a structured and efficient way to handle multi-dimensional data, hierarchical indexing streamlines complex data analysis and manipulation tasks, making them more manageable and understandable"
      ],
      "metadata": {
        "id": "MtQYtjQlGS6c"
      }
    },
    {
      "cell_type": "markdown",
      "source": [
        "Q11.  What is the role of Seaborn’s pairplot() function?\n",
        "\n",
        "Seaborn's pairplot() function serves as a powerful tool for visualizing pairwise relationships and distributions within a dataset, particularly during exploratory data analysis (EDA). Its primary role is to generate a grid of plots, where:\n",
        "\n",
        "**Diagonal Plots:**\n",
        "Display the univariate distribution of each individual variable. By default, these are Kernel Density Estimate (KDE) plots, but they can be customized to show histograms or other distribution plots.\n",
        "\n",
        "**Off-Diagonal Plots:**\n",
        "Illustrate the bivariate relationship between each pair of variables in the dataset. These are typically scatter plots, revealing potential correlations, clusters, or trends between different features.\n",
        "\n",
        "Key functionalities and benefits of pairplot():\n",
        "\n",
        "**Quick Overview of Relationships:**\n",
        "Provides a comprehensive \"bird's-eye view\" of how all numerical variables in a dataset interact with each other.\n",
        "\n",
        "**Feature Selection Aid:**\n",
        "Helps in identifying variables that exhibit strong relationships or distinct patterns, which can be crucial for selecting relevant features for machine learning models.\n",
        "\n",
        "**Outlier Detection:**\n",
        "Can visually highlight potential outliers or anomalies in the data by observing unusual patterns in the scatter plots.\n",
        "\n",
        "**Categorical Variable Integration:**\n",
        "Allows for the inclusion of a categorical variable through the hue argument, coloring the points based on different categories and revealing how relationships vary across groups.\n",
        "\n",
        "**Customization Options:**\n",
        "Offers extensive customization options for plot types, colors, sizes, and other visual aspects, enabling tailored visualizations for specific analytical needs."
      ],
      "metadata": {
        "id": "2cd1KesaGUZc"
      }
    },
    {
      "cell_type": "markdown",
      "source": [
        ":Q12.  What is the purpose of the describe() function in Pandas?\n",
        "\n",
        "The describe() function in Pandas is used to generate descriptive statistics of a DataFrame or Series. Its primary purpose is to provide a quick summary of the central tendency, dispersion, and shape of the distribution of a dataset.\n",
        "\n",
        "\n",
        "**For numerical data, describe() calculates:**\n",
        "*  count: The number of non-null observations.\n",
        "*   mean: The average value.\n",
        "*  std: The standard deviation, a measure of the spread of the data.\n",
        "*  min: The minimum value.\n",
        "*  25%: The 25th percentile (first quartile).\n",
        "*  50%: The 50th percentile (median).\n",
        "*  75%: The 75th percentile (third quartile).\n",
        "*  max: The maximum value.\n",
        "\n",
        "**For object data (e.g., strings or mixed types), describe() provides:**\n",
        "*  count: The number of non-null observations.\n",
        "*  unique: The number of distinct values.\n",
        "*  top: The most frequently occurring value.\n",
        "*  freq: The frequency of the most frequently occurring value"
      ],
      "metadata": {
        "id": "le-cPV5rGUNs"
      }
    },
    {
      "cell_type": "markdown",
      "source": [
        "Q13.  Why is handling missing data important in Pandas?\n",
        "\n",
        "Handling missing data in Pandas is crucial for several reasons:\n",
        "\n",
        "**Ensuring Data Accuracy and Reliability:**\n",
        "Missing values (often represented as NaN or None) can skew statistical calculations, leading to inaccurate summaries, means, medians, and standard deviations. This can result in misleading insights and flawed conclusions from your analysis.\n",
        "\n",
        "**Preventing Errors in Data Processing:**\n",
        "Many data analysis and machine learning algorithms cannot handle missing values directly and will either raise errors or produce incorrect results if missing data is present. Cleaning missing values ensures smooth execution of these processes.\n",
        "\n",
        "**Maintaining Data Integrity for Machine Learning Models:**\n",
        "Missing data can significantly impact the performance and accuracy of machine learning models. Properly addressing missing values, through methods like imputation or removal, is a critical preprocessing step to build robust and reliable models.\n",
        "\n",
        "**Avoiding Bias in Analysis:**\n",
        "Ignoring missing data can introduce systematic bias into your analysis. For example, if data is missing non-randomly (e.g., certain demographics are more likely to have missing information), your analysis might overrepresent or underrepresent specific groups, leading to biased conclusions.\n",
        "\n",
        "**Facilitating Effective Data Visualization:**\n",
        "Missing values can interfere with data visualization tools, leading to incomplete or distorted plots. Handling them ensures that your visualizations accurately represent the underlying data."
      ],
      "metadata": {
        "id": "D2tPkmVLGUE0"
      }
    },
    {
      "cell_type": "markdown",
      "source": [
        "Q14.  What are the benefits of using Plotly for data visualization?\n",
        "\n",
        "Plotly offers several benefits for data visualization, particularly in creating interactive and web-based graphics:\n",
        "-  **Interactivity:**\n",
        "Plotly excels in creating interactive visualizations. Features like zoom, pan, hover tooltips, and clickable legends are built-in, allowing users to explore data dynamically and gain deeper insights.\n",
        "-  **Wide Range of Chart Types:**\n",
        "It supports a comprehensive array of chart types, from basic bar and line charts to more complex visualizations like 3D plots, geographic maps, heatmaps, and specialized financial charts.\n",
        "-  **Ease of Use:**\n",
        "Plotly provides a relatively intuitive API, especially for users of Python, R, and JavaScript, enabling the quick creation of visually appealing and interactive plots with concise code.\n",
        "-  **Customization:**\n",
        "While easy to use, Plotly also offers extensive customization options. Users can fine-tune virtually every aspect of a visualization, including colors, fonts, labels, annotations, and layouts, to match specific aesthetic and informational requirements.\n",
        "**Web Integration and Sharing:**\n",
        "Plotly visualizations are inherently web-based, making them easy to embed in web applications, dashboards, or share as standalone HTML files. This facilitates collaboration and broad accessibility.\n",
        "*  **Cross-Platform Compatibility:**\n",
        "Plotly charts are viewable across various devices and platforms, including desktops, laptops, tablets, and smartphones, due to their web-based nature.\n",
        "*  **Open Source and Community Support:**\n",
        "Plotly is an open-source library, benefiting from a large and active community that contributes to its development and provides support to users"
      ],
      "metadata": {
        "id": "_iZwpzV5GT8k"
      }
    },
    {
      "cell_type": "markdown",
      "source": [
        "Q15.   How does NumPy handle multidimensional arrays?\n",
        "\n",
        "NumPy's core object for handling multidimensional arrays is the ndarray. This object allows for efficient storage and manipulation of homogeneous data (all elements are of the same data type) in an n-dimensional grid.\n",
        "\n",
        "Key aspects of how NumPy handles multidimensional arrays:\n",
        "\n",
        "**Homogeneous Data:**\n",
        "\n",
        "All elements within a NumPy array must be of the same data type (e.g., all integers, all floats). This homogeneity enables optimized memory allocation and faster computations.\n",
        "\n",
        "**Internal Storage as 1D Array:**\n",
        "\n",
        "Despite appearing multidimensional, NumPy internally stores the array's data as a contiguous, one-dimensional block in memory. The multidimensional structure (shape) is essentially a view or interpretation of this underlying 1D data, defining how elements are accessed and indexed.\n",
        "\n",
        "**Shape and Axes:**\n",
        "\n",
        "-  **Shape:** An ndarray has a shape attribute, which is a tuple indicating the size of each dimension (or axis). For example, a 2D array with 3 rows and 4 columns would have a shape of (3, 4).\n",
        "\n",
        "-  **Axes:** Dimensions are referred to as \"axes\" in NumPy. Operations can often be performed along specific axes, allowing for targeted calculations (e.g., calculating the mean along a particular axis).\n",
        "\n",
        "**Indexing and Slicing:**\n",
        "\n",
        "Elements and subarrays within a multidimensional array can be accessed using sophisticated indexing and slicing mechanisms, similar to Python lists but extended to multiple dimensions. This allows for precise selection of data.\n",
        "\n",
        "**Broadcasting:**\n",
        "\n",
        "NumPy employs a powerful feature called \"broadcasting,\" which allows arithmetic operations between arrays of different shapes. Broadcasting effectively \"stretches\" or \"replicates\" smaller arrays to match the dimensions of larger ones without creating explicit copies, leading to highly efficient operations.\n",
        "\n",
        "**Optimized Operations:**\n",
        "\n",
        "NumPy's array operations are implemented in highly optimized C code, leading to significant performance advantages over traditional Python loops for numerical computations on large datasets. This \"vectorization\" of operations is a cornerstone of NumPy's efficiency."
      ],
      "metadata": {
        "id": "1L-v8FnsG-0k"
      }
    },
    {
      "cell_type": "markdown",
      "source": [
        "Q16. What is the role of Bokeh in data visualization?\n",
        "\n",
        "It bridges the gap between Python's powerful data analysis capabilities and the need for dynamic, browser-compatible visualizations without requiring extensive JavaScript knowledge.\n",
        "\n",
        "Key functions of Bokeh in data visualization:\n",
        "\n",
        "**Interactive Visualizations:**\n",
        "\n",
        "Bokeh facilitates the creation of plots that users can interact with through features like zooming, panning, selecting data points, and tooltips, enhancing\n",
        "data exploration.\n",
        "\n",
        "**Web-Friendly Output:**\n",
        "\n",
        "It generates visualizations in formats like HTML documents, making them easily embeddable in web applications, dashboards, or viewable directly in web browsers.\n",
        "\n",
        "**Dashboards and Applications:**\n",
        "\n",
        "Bokeh allows for the construction of complex, multi-panel dashboards and data applications by combining various plots, widgets, and layout functions, providing a comprehensive view of data.\n",
        "\n",
        "**Handling Large and Streaming Data:**\n",
        "\n",
        "Designed to manage large datasets and real-time data streams, Bokeh can efficiently render and update visualizations for complex analytical needs.\n",
        "\n",
        "**Python-Centric Workflow:**\n",
        "\n",
        "It empowers data scientists and analysts who primarily work in Python to create sophisticated web visualizations without needing to delve into JavaScript, streamlining the workflow."
      ],
      "metadata": {
        "id": "MesHWFN1HAt7"
      }
    },
    {
      "cell_type": "markdown",
      "source": [
        "Q17.  Explain the difference between apply() and map() in Pandas?\n",
        "\n",
        "**1. map():**\n",
        "*  **Scope:** Exclusively used on Series objects (e.g., a single column of a DataFrame).\n",
        "*  **Purpose:** Primarily for element-wise transformations or substitutions. It's highly efficient when you need to substitute values in a Series based on a dictionary, another Series, or a simple function.\n",
        "*  **Input:** Can accept a dictionary, a Series, or a callable (function).\n",
        "**Behavior:** Substitutes each value in the Series with the corresponding mapped value. If a value is not found in the mapping, it typically results in NaN.\n",
        "\n",
        "**2. apply():**\n",
        "\n",
        "* **Scope:** Can be used on both Series and DataFrame objects.\n",
        "*  **Purpose:** More versatile than map(). It's used to apply a function along an axis (rows or columns) of a DataFrame or to each element of a Series. It's suitable for more complex operations, including aggregations or functions that require access to multiple elements or rows/columns.\n",
        "*  **Input:** Accepts a callable (function).\n",
        "\n",
        "* **Behavior:**\n",
        "\n",
        "  1. **On a Series:** Applies the function element-wise, similar to map(), but offers more flexibility in passing arguments to the function.\n",
        "  2.  **On a DataFrame:** Applies the function row-wise (axis=0 by default) or\n",
        "column-wise (axis=1). The function receives a Series (representing a row or column) as input"
      ],
      "metadata": {
        "id": "E2hp8AyfHAkD"
      }
    },
    {
      "cell_type": "markdown",
      "source": [
        "Q18. What are some advanced features of NumPy?\n",
        "\n",
        "The core of NumPy is its ndarray object, which is a powerful data structure for numerical data.\n",
        "\n",
        "Key Features of NumPy:\n",
        "\n",
        "**N-dimensional Array Object (ndarray):**\n",
        "This is the primary data structure in NumPy, allowing for efficient storage and manipulation of homogeneous data.\n",
        "\n",
        "**Broadcasting:**\n",
        "A powerful mechanism that allows NumPy to perform operations on arrays of different shapes, provided they are compatible.\n",
        "\n",
        "**Mathematical Functions:**\n",
        "A rich set of functions for linear algebra, Fourier transforms, random number generation, and more.\n",
        "\n",
        "**Integration:**\n",
        "Forms the basis for many other scientific computing libraries in Python, such as SciPy, Pandas, and scikit-learn.\n",
        "\n",
        "\n",
        "\n",
        "    # Create a 1-dimensional NumPy array\n",
        "    arr1 = np.array([1, 2, 3, 4, 5])\n",
        "    print(\"Array 1:\", arr1)\n",
        "\n",
        "    # Create a 2-dimensional NumPy array (matrix)\n",
        "    arr2 = np.array([[1, 2, 3], [4, 5, 6]])\n",
        "    print(\"Array 2:\\n\", arr2)\n",
        "\n",
        "    # Perform element-wise addition\n",
        "    result_add = arr1 + 10\n",
        "    print(\"Array 1 + 10:\", result_add)\n",
        "\n",
        "     \n",
        "    # Perform element-wise multiplication between compatible arrays\n",
        "    arr3 = np.array([10, 20, 30, 40, 50])\n",
        "    result_mult = arr1 * arr3\n",
        "    print(\"Array 1 * Array 3:\", result_mult)"
      ],
      "metadata": {
        "id": "W4nREM7RHAZk"
      }
    },
    {
      "cell_type": "markdown",
      "source": [
        "Q19.  How does Pandas simplify time series analysis?\n",
        "\n",
        "Pandas simplifies time series analysis through its specialized data structures and functions designed to handle temporal data efficiently. Key aspects include:\n",
        "\n",
        "**DatetimeIndex:**\n",
        "Pandas introduces the DatetimeIndex, a specialized index type that allows for powerful time-based indexing and slicing. This enables intuitive selection of data based on dates and times, including partial string indexing (e.g., selecting all data for a specific year or month).\n",
        "\n",
        "**Timestamp Object:**\n",
        "The Timestamp object, built upon Python's native datetime and NumPy's datetime64, provides a rich set of time-related properties and methods accessible via the .dt accessor (e.g., extracting year, month, day of the week).\n",
        "\n",
        "**Time-aware Operations:**\n",
        "Pandas offers functions for common time series operations:\n",
        "*  **Resampling:** Aggregating or downsampling data to a different frequency (e.g., daily to monthly, or vice versa) using various aggregation methods (mean, sum, etc.).\n",
        "* **Shifting and Lagging:** Moving data points forward or backward in time to analyze time-lagged relationships.\n",
        "* **Rolling Calculations:** Performing calculations over a moving window of data (e.g., moving averages, rolling sums).\n",
        "\n",
        "**Missing Data Handling:**\n",
        "Pandas provides robust tools to manage missing values in time series, ensuring data integrity for analysis.\n",
        "\n",
        "**Integration with Visualization:**\n",
        "Pandas seamlessly integrates with plotting libraries like Matplotlib and Seaborn, allowing for easy visualization of time series trends and patterns directly from DataFrames."
      ],
      "metadata": {
        "id": "BbjrZW8fG_xW"
      }
    },
    {
      "cell_type": "markdown",
      "source": [
        "Q20.  What is the role of a pivot table in Pandas?  \n",
        "\n",
        "\n",
        "A pivot table is a data analysis tool that allows you to take columns of raw data from a pandas DataFrame, summarize them, and then analyze the summary data to reveal its insights. Pivot tables allow you to perform common aggregate statistical calculations such as sums, counts, averages, and so on"
      ],
      "metadata": {
        "id": "jZK-02OAHMIN"
      }
    },
    {
      "cell_type": "markdown",
      "source": [
        "Q21. Why is NumPy’s array slicing faster than Python’s list slicing?\n",
        "\n",
        "NumPy array slicing is significantly faster than Python list slicing due to several fundamental differences in how they are implemented and managed in memory:\n",
        "\n",
        "**Contiguous Memory Allocation:**\n",
        "NumPy arrays store elements of the same data type in contiguous blocks of memory. This allows for efficient access and processing of elements during slicing, as the system can retrieve the desired data in a single, continuous read operation. Python lists, on the other hand, can store elements of different data types and their elements are not necessarily stored contiguously in memory, leading to more scattered memory access during slicing.\n",
        "\n",
        "**Homogeneous Data Types:**\n",
        "NumPy arrays are designed for numerical computations and require all elements within an array to be of the same data type. This homogeneity allows NumPy to optimize operations, including slicing, by leveraging highly optimized C code under the hood. Python lists can hold heterogeneous data types, which adds overhead and complexity to operations.\n",
        "\n",
        "**Vectorized Operations:**\n",
        "NumPy's core strength lies in its ability to perform vectorized operations, meaning operations are applied to entire arrays or slices at once, rather than element by element using explicit Python loops. This vectorization is achieved by mapping these operations to highly optimized C or Fortran code, which executes much faster than equivalent Python loops. Slicing is an integral part of enabling these vectorized operations.\n",
        "\n",
        "**Reduced Overhead:**\n",
        "Python lists carry significant overhead per element due to their ability to store various data types and manage object references. NumPy arrays, by enforcing a single data type, minimize this overhead, leading to more memory-efficient storage and faster processing during operations like slicing"
      ],
      "metadata": {
        "id": "HrQ-wZ7sIEQk"
      }
    },
    {
      "cell_type": "markdown",
      "source": [
        "Q22.  What are some common use cases for Seaborn?\n",
        "\n",
        "Seaborn is a Python data visualization library built on Matplotlib, commonly used for creating informative and aesthetically pleasing statistical graphics.\n",
        "Its common use cases include:\n",
        "\n",
        "**Exploring Data Distributions:**\n",
        "\n",
        "Visualizing the distribution of a single variable (univariate analysis) using plots like histograms, kernel density estimates (KDEs), or box plots to understand the data's shape, central tendency, and spread.\n",
        "\n",
        "**Analyzing Relationships Between Variables:**\n",
        "* **Numerical Relationships:** Using scatter plots to show the relationship between two continuous variables, or line plots to visualize trends over time or across a continuous range.\n",
        "*  **Categorical Relationships:** Employing categorical plots such as bar plots, count plots, box plots, or violin plots to compare numerical values across different categories or to visualize the distribution of a categorical variable.\n",
        "\n",
        "**Regression Analysis:**\n",
        "Creating regression plots to visualize the relationship between variables and the fit of a linear regression model.\n",
        "\n",
        "**Visualizing Complex Datasets:**\n",
        "*  **Heatmaps:** Representing matrices of data, such as correlation matrices or confusion matrices, where color intensity indicates the value.\n",
        "*  **Facet Grids:** Creating grids of subplots to explore relationships within different subsets of the data based on categorical or other grouping variables.\n",
        "\n",
        "**Statistical Data Exploration:**\n",
        "Seaborn's functions often include built-in statistical estimations, such as confidence intervals or regression lines, which aid in understanding the statistical properties of the data.\n",
        "\n",
        "**Creating Publication-Quality Graphics:**\n",
        "Seaborn offers attractive default styles, color palettes, and themes that produce visually appealing plots suitable for presentations, reports, and publications"
      ],
      "metadata": {
        "id": "oP5KNUKNIEHt"
      }
    },
    {
      "cell_type": "markdown",
      "source": [
        "#Practical"
      ],
      "metadata": {
        "id": "0jHX_SsxowqC"
      }
    },
    {
      "cell_type": "code",
      "execution_count": 1,
      "metadata": {
        "id": "-Xn5iUjP2D8a",
        "colab": {
          "base_uri": "https://localhost:8080/"
        },
        "outputId": "988bd723-7330-4cfd-93ad-a849bb04f4e3"
      },
      "outputs": [
        {
          "output_type": "stream",
          "name": "stdout",
          "text": [
            "Array:\n",
            "[[1 2 3]\n",
            " [4 5 6]\n",
            " [7 8 9]]\n",
            "\n",
            "Sum of each row:\n",
            "[ 6 15 24]\n"
          ]
        }
      ],
      "source": [
        "import numpy as np\n",
        "\n",
        "# Create a 2D NumPy array\n",
        "arr = np.array([[1, 2, 3],\n",
        "                [4, 5, 6],\n",
        "                [7, 8, 9]])\n",
        "\n",
        "print(\"Array:\")\n",
        "print(arr)\n",
        "\n",
        "# Calculate the sum of each row\n",
        "row_sums = np.sum(arr, axis=1)\n",
        "\n",
        "print(\"\\nSum of each row:\")\n",
        "print(row_sums)\n"
      ]
    },
    {
      "cell_type": "code",
      "source": [
        "import pandas as pd\n",
        "\n",
        "# Create a sample DataFrame\n",
        "data = {\n",
        "    'Name': ['Amit', 'Neha', 'Raj', 'Priya'],\n",
        "    'Age': [25, 30, 22, 28],\n",
        "    'Salary': [40000, 50000, 35000, 45000]\n",
        "}\n",
        "\n",
        "df = pd.DataFrame(data)\n",
        "\n",
        "print(\"DataFrame:\")\n",
        "print(df)\n",
        "\n",
        "# Find the mean of a specific column, e.g., 'Salary'\n",
        "mean_salary = df['Salary'].mean()\n",
        "\n",
        "print(\"\\nMean of Salary column:\", mean_salary)\n"
      ],
      "metadata": {
        "colab": {
          "base_uri": "https://localhost:8080/"
        },
        "id": "1mYre06wlOy3",
        "outputId": "0becb530-073a-4f60-e281-d8b9bc968eb9"
      },
      "execution_count": 2,
      "outputs": [
        {
          "output_type": "stream",
          "name": "stdout",
          "text": [
            "DataFrame:\n",
            "    Name  Age  Salary\n",
            "0   Amit   25   40000\n",
            "1   Neha   30   50000\n",
            "2    Raj   22   35000\n",
            "3  Priya   28   45000\n",
            "\n",
            "Mean of Salary column: 42500.0\n"
          ]
        }
      ]
    },
    {
      "cell_type": "code",
      "source": [
        "import matplotlib.pyplot as plt\n",
        "\n",
        "# Sample data\n",
        "x = [5, 7, 8, 7, 6, 9, 5, 6, 7, 8]\n",
        "y = [99, 86, 87, 88, 100, 86, 103, 87, 94, 78]\n",
        "\n",
        "# Create scatter plot\n",
        "plt.scatter(x, y, color='blue', marker='o')\n",
        "\n",
        "# Add labels and title\n",
        "plt.xlabel(\"X values\")\n",
        "plt.ylabel(\"Y values\")\n",
        "plt.title(\"Simple Scatter Plot\")\n",
        "\n",
        "# Show the plot\n",
        "plt.show()\n",
        "\n"
      ],
      "metadata": {
        "colab": {
          "base_uri": "https://localhost:8080/",
          "height": 472
        },
        "id": "7HkdksB6lOu1",
        "outputId": "de963ef9-4db9-4639-df38-57e534597414"
      },
      "execution_count": 3,
      "outputs": [
        {
          "output_type": "display_data",
          "data": {
            "text/plain": [
              "<Figure size 640x480 with 1 Axes>"
            ],
            "image/png": "[encoded data removed]"
          },
          "metadata": {}
        }
      ]
    },
    {
      "cell_type": "code",
      "source": [
        "import pandas as pd\n",
        "import seaborn as sns\n",
        "import matplotlib.pyplot as plt\n",
        "\n",
        "# Create a sample DataFrame\n",
        "data = {\n",
        "    'Age': [25, 30, 22, 28, 35],\n",
        "    'Salary': [40000, 50000, 35000, 45000, 60000],\n",
        "    'Experience': [2, 5, 1, 4, 7]\n",
        "}\n",
        "\n",
        "df = pd.DataFrame(data)\n",
        "\n",
        "print(\"DataFrame:\")\n",
        "print(df)\n",
        "\n",
        "# Calculate correlation matrix\n",
        "corr_matrix = df.corr()\n",
        "\n",
        "print(\"\\nCorrelation Matrix:\")\n",
        "print(corr_matrix)\n",
        "\n",
        "# Visualize correlation matrix using heatmap\n",
        "plt.figure(figsize=(6, 4))\n",
        "sns.heatmap(corr_matrix, annot=True, cmap=\"coolwarm\", linewidths=0.5)\n",
        "\n",
        "plt.title(\"Correlation Heatmap\")\n",
        "plt.show()\n"
      ],
      "metadata": {
        "colab": {
          "base_uri": "https://localhost:8080/",
          "height": 617
        },
        "id": "kPS2HeGrlOrg",
        "outputId": "4bf678a2-c3f2-48b6-b04c-fc5006077aff"
      },
      "execution_count": 4,
      "outputs": [
        {
          "output_type": "stream",
          "name": "stdout",
          "text": [
            "DataFrame:\n",
            "   Age  Salary  Experience\n",
            "0   25   40000           2\n",
            "1   30   50000           5\n",
            "2   22   35000           1\n",
            "3   28   45000           4\n",
            "4   35   60000           7\n",
            "\n",
            "Correlation Matrix:\n",
            "                 Age    Salary  Experience\n",
            "Age         1.000000  0.997791    0.994300\n",
            "Salary      0.997791  1.000000    0.990771\n",
            "Experience  0.994300  0.990771    1.000000\n"
          ]
        },
        {
          "output_type": "display_data",
          "data": {
            "text/plain": [
              "<Figure size 600x400 with 2 Axes>"
            ],
            "image/png": "[encoded data removed]"
          },
          "metadata": {}
        }
      ]
    },
    {
      "cell_type": "code",
      "source": [
        "import plotly.express as px\n",
        "import pandas as pd\n",
        "\n",
        "# Create a sample DataFrame\n",
        "data = {\n",
        "    'Name': ['Amit', 'Neha', 'Raj', 'Priya'],\n",
        "    'Salary': [40000, 50000, 35000, 45000]\n",
        "}\n",
        "\n",
        "df = pd.DataFrame(data)\n",
        "\n",
        "# Create bar plot\n",
        "fig = px.bar(df, x='Name', y='Salary', title=\"Employee Salaries\", color='Name')\n",
        "\n",
        "# Show plot\n",
        "fig.show()\n"
      ],
      "metadata": {
        "colab": {
          "base_uri": "https://localhost:8080/",
          "height": 542
        },
        "id": "bS7GNau6lOlM",
        "outputId": "ea6c2470-92dd-4a67-88dd-0db19daaf958"
      },
      "execution_count": 5,
      "outputs": [
        {
          "output_type": "display_data",
          "data": {
            "text/html": [
              "<html>\n",
              "<head><meta charset=\"utf-8\" /></head>\n",
              "<body>\n",
              "    <div>            <script src=\"https://cdnjs.cloudflare.com/ajax/libs/mathjax/2.7.5/MathJax.js?config=TeX-AMS-MML_SVG\"></script><script type=\"text/javascript\">if (window.MathJax && window.MathJax.Hub && window.MathJax.Hub.Config) {window.MathJax.Hub.Config({SVG: {font: \"STIX-Web\"}});}</script>                <script type=\"text/javascript\">window.PlotlyConfig = {MathJaxConfig: 'local'};</script>\n",
              "        <script charset=\"utf-8\" src=\"https://cdn.plot.ly/plotly-2.35.2.min.js\"></script>                <div id=\"4b1279f1-fe27-48a2-9207-4e3f07cea79a\" class=\"plotly-graph-div\" style=\"height:525px; width:100%;\"></div>            <script type=\"text/javascript\">                                    window.PLOTLYENV=window.PLOTLYENV || {};                                    if (document.getElementById(\"4b1279f1-fe27-48a2-9207-4e3f07cea79a\")) {                    Plotly.newPlot(                        \"4b1279f1-fe27-48a2-9207-4e3f07cea79a\",                        [{\"alignmentgroup\":\"True\",\"hovertemplate\":\"Name=%{x}\\u003cbr\\u003eSalary=%{y}\\u003cextra\\u003e\\u003c\\u002fextra\\u003e\",\"legendgroup\":\"Amit\",\"marker\":{\"color\":\"#636efa\",\"pattern\":{\"shape\":\"\"}},\"name\":\"Amit\",\"offsetgroup\":\"Amit\",\"orientation\":\"v\",\"showlegend\":true,\"textposition\":\"auto\",\"x\":[\"Amit\"],\"xaxis\":\"x\",\"y\":[40000],\"yaxis\":\"y\",\"type\":\"bar\"},{\"alignmentgroup\":\"True\",\"hovertemplate\":\"Name=%{x}\\u003cbr\\u003eSalary=%{y}\\u003cextra\\u003e\\u003c\\u002fextra\\u003e\",\"legendgroup\":\"Neha\",\"marker\":{\"color\":\"#EF553B\",\"pattern\":{\"shape\":\"\"}},\"name\":\"Neha\",\"offsetgroup\":\"Neha\",\"orientation\":\"v\",\"showlegend\":true,\"textposition\":\"auto\",\"x\":[\"Neha\"],\"xaxis\":\"x\",\"y\":[50000],\"yaxis\":\"y\",\"type\":\"bar\"},{\"alignmentgroup\":\"True\",\"hovertemplate\":\"Name=%{x}\\u003cbr\\u003eSalary=%{y}\\u003cextra\\u003e\\u003c\\u002fextra\\u003e\",\"legendgroup\":\"Raj\",\"marker\":{\"color\":\"#00cc96\",\"pattern\":{\"shape\":\"\"}},\"name\":\"Raj\",\"offsetgroup\":\"Raj\",\"orientation\":\"v\",\"showlegend\":true,\"textposition\":\"auto\",\"x\":[\"Raj\"],\"xaxis\":\"x\",\"y\":[35000],\"yaxis\":\"y\",\"type\":\"bar\"},{\"alignmentgroup\":\"True\",\"hovertemplate\":\"Name=%{x}\\u003cbr\\u003eSalary=%{y}\\u003cextra\\u003e\\u003c\\u002fextra\\u003e\",\"legendgroup\":\"Priya\",\"marker\":{\"color\":\"#ab63fa\",\"pattern\":{\"shape\":\"\"}},\"name\":\"Priya\",\"offsetgroup\":\"Priya\",\"orientation\":\"v\",\"showlegend\":true,\"textposition\":\"auto\",\"x\":[\"Priya\"],\"xaxis\":\"x\",\"y\":[45000],\"yaxis\":\"y\",\"type\":\"bar\"}],                        {\"template\":{\"data\":{\"histogram2dcontour\":[{\"type\":\"histogram2dcontour\",\"colorbar\":{\"outlinewidth\":0,\"ticks\":\"\"},\"colorscale\":[[0.0,\"#0d0887\"],[0.1111111111111111,\"#46039f\"],[0.2222222222222222,\"#7201a8\"],[0.3333333333333333,\"#9c179e\"],[0.4444444444444444,\"#bd3786\"],[0.5555555555555556,\"#d8576b\"],[0.6666666666666666,\"#ed7953\"],[0.7777777777777778,\"#fb9f3a\"],[0.8888888888888888,\"#fdca26\"],[1.0,\"#f0f921\"]]}],\"choropleth\":[{\"type\":\"choropleth\",\"colorbar\":{\"outlinewidth\":0,\"ticks\":\"\"}}],\"histogram2d\":[{\"type\":\"histogram2d\",\"colorbar\":{\"outlinewidth\":0,\"ticks\":\"\"},\"colorscale\":[[0.0,\"#0d0887\"],[0.1111111111111111,\"#46039f\"],[0.2222222222222222,\"#7201a8\"],[0.3333333333333333,\"#9c179e\"],[0.4444444444444444,\"#bd3786\"],[0.5555555555555556,\"#d8576b\"],[0.6666666666666666,\"#ed7953\"],[0.7777777777777778,\"#fb9f3a\"],[0.8888888888888888,\"#fdca26\"],[1.0,\"#f0f921\"]]}],\"heatmap\":[{\"type\":\"heatmap\",\"colorbar\":{\"outlinewidth\":0,\"ticks\":\"\"},\"colorscale\":[[0.0,\"#0d0887\"],[0.1111111111111111,\"#46039f\"],[0.2222222222222222,\"#7201a8\"],[0.3333333333333333,\"#9c179e\"],[0.4444444444444444,\"#bd3786\"],[0.5555555555555556,\"#d8576b\"],[0.6666666666666666,\"#ed7953\"],[0.7777777777777778,\"#fb9f3a\"],[0.8888888888888888,\"#fdca26\"],[1.0,\"#f0f921\"]]}],\"heatmapgl\":[{\"type\":\"heatmapgl\",\"colorbar\":{\"outlinewidth\":0,\"ticks\":\"\"},\"colorscale\":[[0.0,\"#0d0887\"],[0.1111111111111111,\"#46039f\"],[0.2222222222222222,\"#7201a8\"],[0.3333333333333333,\"#9c179e\"],[0.4444444444444444,\"#bd3786\"],[0.5555555555555556,\"#d8576b\"],[0.6666666666666666,\"#ed7953\"],[0.7777777777777778,\"#fb9f3a\"],[0.8888888888888888,\"#fdca26\"],[1.0,\"#f0f921\"]]}],\"contourcarpet\":[{\"type\":\"contourcarpet\",\"colorbar\":{\"outlinewidth\":0,\"ticks\":\"\"}}],\"contour\":[{\"type\":\"contour\",\"colorbar\":{\"outlinewidth\":0,\"ticks\":\"\"},\"colorscale\":[[0.0,\"#0d0887\"],[0.1111111111111111,\"#46039f\"],[0.2222222222222222,\"#7201a8\"],[0.3333333333333333,\"#9c179e\"],[0.4444444444444444,\"#bd3786\"],[0.5555555555555556,\"#d8576b\"],[0.6666666666666666,\"#ed7953\"],[0.7777777777777778,\"#fb9f3a\"],[0.8888888888888888,\"#fdca26\"],[1.0,\"#f0f921\"]]}],\"surface\":[{\"type\":\"surface\",\"colorbar\":{\"outlinewidth\":0,\"ticks\":\"\"},\"colorscale\":[[0.0,\"#0d0887\"],[0.1111111111111111,\"#46039f\"],[0.2222222222222222,\"#7201a8\"],[0.3333333333333333,\"#9c179e\"],[0.4444444444444444,\"#bd3786\"],[0.5555555555555556,\"#d8576b\"],[0.6666666666666666,\"#ed7953\"],[0.7777777777777778,\"#fb9f3a\"],[0.8888888888888888,\"#fdca26\"],[1.0,\"#f0f921\"]]}],\"mesh3d\":[{\"type\":\"mesh3d\",\"colorbar\":{\"outlinewidth\":0,\"ticks\":\"\"}}],\"scatter\":[{\"fillpattern\":{\"fillmode\":\"overlay\",\"size\":10,\"solidity\":0.2},\"type\":\"scatter\"}],\"parcoords\":[{\"type\":\"parcoords\",\"line\":{\"colorbar\":{\"outlinewidth\":0,\"ticks\":\"\"}}}],\"scatterpolargl\":[{\"type\":\"scatterpolargl\",\"marker\":{\"colorbar\":{\"outlinewidth\":0,\"ticks\":\"\"}}}],\"bar\":[{\"error_x\":{\"color\":\"#2a3f5f\"},\"error_y\":{\"color\":\"#2a3f5f\"},\"marker\":{\"line\":{\"color\":\"#E5ECF6\",\"width\":0.5},\"pattern\":{\"fillmode\":\"overlay\",\"size\":10,\"solidity\":0.2}},\"type\":\"bar\"}],\"scattergeo\":[{\"type\":\"scattergeo\",\"marker\":{\"colorbar\":{\"outlinewidth\":0,\"ticks\":\"\"}}}],\"scatterpolar\":[{\"type\":\"scatterpolar\",\"marker\":{\"colorbar\":{\"outlinewidth\":0,\"ticks\":\"\"}}}],\"histogram\":[{\"marker\":{\"pattern\":{\"fillmode\":\"overlay\",\"size\":10,\"solidity\":0.2}},\"type\":\"histogram\"}],\"scattergl\":[{\"type\":\"scattergl\",\"marker\":{\"colorbar\":{\"outlinewidth\":0,\"ticks\":\"\"}}}],\"scatter3d\":[{\"type\":\"scatter3d\",\"line\":{\"colorbar\":{\"outlinewidth\":0,\"ticks\":\"\"}},\"marker\":{\"colorbar\":{\"outlinewidth\":0,\"ticks\":\"\"}}}],\"scattermapbox\":[{\"type\":\"scattermapbox\",\"marker\":{\"colorbar\":{\"outlinewidth\":0,\"ticks\":\"\"}}}],\"scatterternary\":[{\"type\":\"scatterternary\",\"marker\":{\"colorbar\":{\"outlinewidth\":0,\"ticks\":\"\"}}}],\"scattercarpet\":[{\"type\":\"scattercarpet\",\"marker\":{\"colorbar\":{\"outlinewidth\":0,\"ticks\":\"\"}}}],\"carpet\":[{\"aaxis\":{\"endlinecolor\":\"#2a3f5f\",\"gridcolor\":\"white\",\"linecolor\":\"white\",\"minorgridcolor\":\"white\",\"startlinecolor\":\"#2a3f5f\"},\"baxis\":{\"endlinecolor\":\"#2a3f5f\",\"gridcolor\":\"white\",\"linecolor\":\"white\",\"minorgridcolor\":\"white\",\"startlinecolor\":\"#2a3f5f\"},\"type\":\"carpet\"}],\"table\":[{\"cells\":{\"fill\":{\"color\":\"#EBF0F8\"},\"line\":{\"color\":\"white\"}},\"header\":{\"fill\":{\"color\":\"#C8D4E3\"},\"line\":{\"color\":\"white\"}},\"type\":\"table\"}],\"barpolar\":[{\"marker\":{\"line\":{\"color\":\"#E5ECF6\",\"width\":0.5},\"pattern\":{\"fillmode\":\"overlay\",\"size\":10,\"solidity\":0.2}},\"type\":\"barpolar\"}],\"pie\":[{\"automargin\":true,\"type\":\"pie\"}]},\"layout\":{\"autotypenumbers\":\"strict\",\"colorway\":[\"#636efa\",\"#EF553B\",\"#00cc96\",\"#ab63fa\",\"#FFA15A\",\"#19d3f3\",\"#FF6692\",\"#B6E880\",\"#FF97FF\",\"#FECB52\"],\"font\":{\"color\":\"#2a3f5f\"},\"hovermode\":\"closest\",\"hoverlabel\":{\"align\":\"left\"},\"paper_bgcolor\":\"white\",\"plot_bgcolor\":\"#E5ECF6\",\"polar\":{\"bgcolor\":\"#E5ECF6\",\"angularaxis\":{\"gridcolor\":\"white\",\"linecolor\":\"white\",\"ticks\":\"\"},\"radialaxis\":{\"gridcolor\":\"white\",\"linecolor\":\"white\",\"ticks\":\"\"}},\"ternary\":{\"bgcolor\":\"#E5ECF6\",\"aaxis\":{\"gridcolor\":\"white\",\"linecolor\":\"white\",\"ticks\":\"\"},\"baxis\":{\"gridcolor\":\"white\",\"linecolor\":\"white\",\"ticks\":\"\"},\"caxis\":{\"gridcolor\":\"white\",\"linecolor\":\"white\",\"ticks\":\"\"}},\"coloraxis\":{\"colorbar\":{\"outlinewidth\":0,\"ticks\":\"\"}},\"colorscale\":{\"sequential\":[[0.0,\"#0d0887\"],[0.1111111111111111,\"#46039f\"],[0.2222222222222222,\"#7201a8\"],[0.3333333333333333,\"#9c179e\"],[0.4444444444444444,\"#bd3786\"],[0.5555555555555556,\"#d8576b\"],[0.6666666666666666,\"#ed7953\"],[0.7777777777777778,\"#fb9f3a\"],[0.8888888888888888,\"#fdca26\"],[1.0,\"#f0f921\"]],\"sequentialminus\":[[0.0,\"#0d0887\"],[0.1111111111111111,\"#46039f\"],[0.2222222222222222,\"#7201a8\"],[0.3333333333333333,\"#9c179e\"],[0.4444444444444444,\"#bd3786\"],[0.5555555555555556,\"#d8576b\"],[0.6666666666666666,\"#ed7953\"],[0.7777777777777778,\"#fb9f3a\"],[0.8888888888888888,\"#fdca26\"],[1.0,\"#f0f921\"]],\"diverging\":[[0,\"#8e0152\"],[0.1,\"#c51b7d\"],[0.2,\"#de77ae\"],[0.3,\"#f1b6da\"],[0.4,\"#fde0ef\"],[0.5,\"#f7f7f7\"],[0.6,\"#e6f5d0\"],[0.7,\"#b8e186\"],[0.8,\"#7fbc41\"],[0.9,\"#4d9221\"],[1,\"#276419\"]]},\"xaxis\":{\"gridcolor\":\"white\",\"linecolor\":\"white\",\"ticks\":\"\",\"title\":{\"standoff\":15},\"zerolinecolor\":\"white\",\"automargin\":true,\"zerolinewidth\":2},\"yaxis\":{\"gridcolor\":\"white\",\"linecolor\":\"white\",\"ticks\":\"\",\"title\":{\"standoff\":15},\"zerolinecolor\":\"white\",\"automargin\":true,\"zerolinewidth\":2},\"scene\":{\"xaxis\":{\"backgroundcolor\":\"#E5ECF6\",\"gridcolor\":\"white\",\"linecolor\":\"white\",\"showbackground\":true,\"ticks\":\"\",\"zerolinecolor\":\"white\",\"gridwidth\":2},\"yaxis\":{\"backgroundcolor\":\"#E5ECF6\",\"gridcolor\":\"white\",\"linecolor\":\"white\",\"showbackground\":true,\"ticks\":\"\",\"zerolinecolor\":\"white\",\"gridwidth\":2},\"zaxis\":{\"backgroundcolor\":\"#E5ECF6\",\"gridcolor\":\"white\",\"linecolor\":\"white\",\"showbackground\":true,\"ticks\":\"\",\"zerolinecolor\":\"white\",\"gridwidth\":2}},\"shapedefaults\":{\"line\":{\"color\":\"#2a3f5f\"}},\"annotationdefaults\":{\"arrowcolor\":\"#2a3f5f\",\"arrowhead\":0,\"arrowwidth\":1},\"geo\":{\"bgcolor\":\"white\",\"landcolor\":\"#E5ECF6\",\"subunitcolor\":\"white\",\"showland\":true,\"showlakes\":true,\"lakecolor\":\"white\"},\"title\":{\"x\":0.05},\"mapbox\":{\"style\":\"light\"}}},\"xaxis\":{\"anchor\":\"y\",\"domain\":[0.0,1.0],\"title\":{\"text\":\"Name\"},\"categoryorder\":\"array\",\"categoryarray\":[\"Amit\",\"Neha\",\"Raj\",\"Priya\"]},\"yaxis\":{\"anchor\":\"x\",\"domain\":[0.0,1.0],\"title\":{\"text\":\"Salary\"}},\"legend\":{\"title\":{\"text\":\"Name\"},\"tracegroupgap\":0},\"title\":{\"text\":\"Employee Salaries\"},\"barmode\":\"relative\"},                        {\"responsive\": true}                    ).then(function(){\n",
              "                            \n",
              "var gd = document.getElementById('4b1279f1-fe27-48a2-9207-4e3f07cea79a');\n",
              "var x = new MutationObserver(function (mutations, observer) {{\n",
              "        var display = window.getComputedStyle(gd).display;\n",
              "        if (!display || display === 'none') {{\n",
              "            console.log([gd, 'removed!']);\n",
              "            Plotly.purge(gd);\n",
              "            observer.disconnect();\n",
              "        }}\n",
              "}});\n",
              "\n",
              "// Listen for the removal of the full notebook cells\n",
              "var notebookContainer = gd.closest('#notebook-container');\n",
              "if (notebookContainer) {{\n",
              "    x.observe(notebookContainer, {childList: true});\n",
              "}}\n",
              "\n",
              "// Listen for the clearing of the current output cell\n",
              "var outputEl = gd.closest('.output');\n",
              "if (outputEl) {{\n",
              "    x.observe(outputEl, {childList: true});\n",
              "}}\n",
              "\n",
              "                        })                };                            </script>        </div>\n",
              "</body>\n",
              "</html>"
            ]
          },
          "metadata": {}
        }
      ]
    },
    {
      "cell_type": "code",
      "source": [
        "import pandas as pd\n",
        "\n",
        "# Create a sample DataFrame\n",
        "data = {\n",
        "    'Name': ['Amit', 'Neha', 'Raj', 'Priya'],\n",
        "    'Salary': [40000, 50000, 35000, 45000]\n",
        "}\n",
        "\n",
        "df = pd.DataFrame(data)\n",
        "\n",
        "print(\"Original DataFrame:\")\n",
        "print(df)\n",
        "\n",
        "# Add a new column based on an existing column (e.g., Bonus = 10% of Salary)\n",
        "df['Bonus'] = df['Salary'] * 0.10\n",
        "\n",
        "print(\"\\nDataFrame with new column:\")\n",
        "print(df)\n",
        "\n"
      ],
      "metadata": {
        "colab": {
          "base_uri": "https://localhost:8080/"
        },
        "id": "71Bat8ZXlOhw",
        "outputId": "a5cfd9a8-df6c-4c0b-ecd8-395bd0c102d7"
      },
      "execution_count": 6,
      "outputs": [
        {
          "output_type": "stream",
          "name": "stdout",
          "text": [
            "Original DataFrame:\n",
            "    Name  Salary\n",
            "0   Amit   40000\n",
            "1   Neha   50000\n",
            "2    Raj   35000\n",
            "3  Priya   45000\n",
            "\n",
            "DataFrame with new column:\n",
            "    Name  Salary   Bonus\n",
            "0   Amit   40000  4000.0\n",
            "1   Neha   50000  5000.0\n",
            "2    Raj   35000  3500.0\n",
            "3  Priya   45000  4500.0\n"
          ]
        }
      ]
    },
    {
      "cell_type": "code",
      "source": [
        "import numpy as np\n",
        "\n",
        "# Create two NumPy arrays\n",
        "arr1 = np.array([1, 2, 3, 4])\n",
        "arr2 = np.array([5, 6, 7, 8])\n",
        "\n",
        "print(\"Array 1:\", arr1)\n",
        "print(\"Array 2:\", arr2)\n",
        "\n",
        "# Element-wise multiplication\n",
        "result = arr1 * arr2    # or np.multiply(arr1, arr2)\n",
        "\n",
        "print(\"\\nElement-wise multiplication result:\")\n",
        "print(result)\n"
      ],
      "metadata": {
        "colab": {
          "base_uri": "https://localhost:8080/"
        },
        "id": "W5p1ZHQylOeM",
        "outputId": "d8b220ff-3771-475c-d0eb-8a71280f1335"
      },
      "execution_count": 7,
      "outputs": [
        {
          "output_type": "stream",
          "name": "stdout",
          "text": [
            "Array 1: [1 2 3 4]\n",
            "Array 2: [5 6 7 8]\n",
            "\n",
            "Element-wise multiplication result:\n",
            "[ 5 12 21 32]\n"
          ]
        }
      ]
    },
    {
      "cell_type": "code",
      "source": [
        "import matplotlib.pyplot as plt\n",
        "\n",
        "# Sample data\n",
        "x = [1, 2, 3, 4, 5]\n",
        "\n",
        "y1 = [2, 4, 6, 8, 10]   # Line 1\n",
        "y2 = [1, 2, 1, 2, 1]    # Line 2\n",
        "y3 = [5, 7, 6, 8, 7]    # Line 3\n",
        "\n",
        "# Plot multiple lines\n",
        "plt.plot(x, y1, label=\"Line 1\", marker='o')\n",
        "plt.plot(x, y2, label=\"Line 2\", marker='s')\n",
        "plt.plot(x, y3, label=\"Line 3\", marker='^')\n",
        "\n",
        "# Add labels, title, and legend\n",
        "plt.xlabel(\"X-axis\")\n",
        "plt.ylabel(\"Y-axis\")\n",
        "plt.title(\"Line Plot with Multiple Lines\")\n",
        "plt.legend()\n",
        "\n",
        "# Show the plot\n",
        "plt.show()\n"
      ],
      "metadata": {
        "colab": {
          "base_uri": "https://localhost:8080/",
          "height": 472
        },
        "id": "XfoxWZBnlOaq",
        "outputId": "8a161659-015a-4569-d482-c1751b518764"
      },
      "execution_count": 8,
      "outputs": [
        {
          "output_type": "display_data",
          "data": {
            "text/plain": [
              "<Figure size 640x480 with 1 Axes>"
            ],
            "image/png": "[encoded data removed]"
          },
          "metadata": {}
        }
      ]
    },
    {
      "cell_type": "code",
      "source": [
        "import pandas as pd\n",
        "\n",
        "# Create a sample DataFrame\n",
        "data = {\n",
        "    'Name': ['Amit', 'Neha', 'Raj', 'Priya', 'Karan'],\n",
        "    'Salary': [40000, 50000, 35000, 45000, 60000]\n",
        "}\n",
        "\n",
        "df = pd.DataFrame(data)\n",
        "\n",
        "print(\"Original DataFrame:\")\n",
        "print(df)\n",
        "\n",
        "# Set threshold\n",
        "threshold = 45000\n",
        "\n",
        "# Filter rows where Salary > threshold\n",
        "filtered_df = df[df['Salary'] > threshold]\n",
        "\n",
        "print(f\"\\nRows where Salary > {threshold}:\")\n",
        "print(filtered_df)\n"
      ],
      "metadata": {
        "colab": {
          "base_uri": "https://localhost:8080/"
        },
        "id": "aViw0_a8mtZH",
        "outputId": "abbce189-43a8-4133-8b0e-5366ce869f1e"
      },
      "execution_count": 9,
      "outputs": [
        {
          "output_type": "stream",
          "name": "stdout",
          "text": [
            "Original DataFrame:\n",
            "    Name  Salary\n",
            "0   Amit   40000\n",
            "1   Neha   50000\n",
            "2    Raj   35000\n",
            "3  Priya   45000\n",
            "4  Karan   60000\n",
            "\n",
            "Rows where Salary > 45000:\n",
            "    Name  Salary\n",
            "1   Neha   50000\n",
            "4  Karan   60000\n"
          ]
        }
      ]
    },
    {
      "cell_type": "code",
      "source": [
        "import seaborn as sns\n",
        "import matplotlib.pyplot as plt\n",
        "import pandas as pd\n",
        "import numpy as np\n",
        "\n",
        "# Generate some sample data\n",
        "data = np.random.normal(loc=50, scale=10, size=200)  # Normal distribution\n",
        "\n",
        "# Create a DataFrame\n",
        "df = pd.DataFrame({\"Scores\": data})\n",
        "\n",
        "# Plot histogram\n",
        "plt.figure(figsize=(8, 5))\n",
        "sns.histplot(df[\"Scores\"], bins=20, kde=True, color=\"skyblue\")\n",
        "\n",
        "# Add labels and title\n",
        "plt.xlabel(\"Scores\")\n",
        "plt.ylabel(\"Frequency\")\n",
        "plt.title(\"Distribution of Scores (Histogram with KDE)\")\n",
        "\n",
        "plt.show()\n"
      ],
      "metadata": {
        "colab": {
          "base_uri": "https://localhost:8080/",
          "height": 487
        },
        "id": "p5SswfhQmtV2",
        "outputId": "f1b590aa-de30-4bde-8ab8-5d55b94fa34f"
      },
      "execution_count": 10,
      "outputs": [
        {
          "output_type": "display_data",
          "data": {
            "text/plain": [
              "<Figure size 800x500 with 1 Axes>"
            ],
            "image/png": "[encoded data removed]"
          },
          "metadata": {}
        }
      ]
    },
    {
      "cell_type": "code",
      "source": [
        "import numpy as np\n",
        "\n",
        "# Define two matrices\n",
        "A = np.array([[1, 2],\n",
        "              [3, 4]])\n",
        "\n",
        "B = np.array([[5, 6],\n",
        "              [7, 8]])\n",
        "\n",
        "print(\"Matrix A:\")\n",
        "print(A)\n",
        "print(\"\\nMatrix B:\")\n",
        "print(B)\n",
        "\n",
        "# Matrix multiplication\n",
        "result = np.dot(A, B)   # or A @ B\n",
        "\n",
        "print(\"\\nResult of Matrix Multiplication:\")\n",
        "print(result)\n"
      ],
      "metadata": {
        "colab": {
          "base_uri": "https://localhost:8080/"
        },
        "id": "ZZZMhAzWmtSO",
        "outputId": "295075f9-a885-4f1f-d48c-bb2693fe509b"
      },
      "execution_count": 11,
      "outputs": [
        {
          "output_type": "stream",
          "name": "stdout",
          "text": [
            "Matrix A:\n",
            "[[1 2]\n",
            " [3 4]]\n",
            "\n",
            "Matrix B:\n",
            "[[5 6]\n",
            " [7 8]]\n",
            "\n",
            "Result of Matrix Multiplication:\n",
            "[[19 22]\n",
            " [43 50]]\n"
          ]
        }
      ]
    },
    {
      "cell_type": "code",
      "source": [],
      "metadata": {
        "id": "TKOeGgeYoiTk"
      },
      "execution_count": null,
      "outputs": []
    },
    {
      "cell_type": "code",
      "source": [
        "import plotly.express as px\n",
        "import pandas as pd\n",
        "\n",
        "# Sample data\n",
        "data = {\n",
        "    \"X\": [5, 7, 8, 7, 6, 9, 5, 6, 7, 8],\n",
        "    \"Y\": [99, 86, 87, 88, 100, 86, 103, 87, 94, 78],\n",
        "    \"Z\": [1, 3, 2, 5, 7, 8, 6, 4, 9, 2],\n",
        "    \"Category\": [\"A\", \"B\", \"A\", \"B\", \"A\", \"B\", \"A\", \"B\", \"A\", \"B\"]\n",
        "}\n",
        "\n",
        "df = pd.DataFrame(data)\n",
        "\n",
        "# Create 3D scatter plot\n",
        "fig = px.scatter_3d(\n",
        "    df, x=\"X\", y=\"Y\", z=\"Z\",\n",
        "    color=\"Category\",  # Different colors for categories\n",
        "    size=\"Z\",          # Point size based on Z values\n",
        "    title=\"3D Scatter Plot Example\"\n",
        ")\n",
        "\n",
        "fig.show()\n",
        "\n",
        "\n"
      ],
      "metadata": {
        "colab": {
          "base_uri": "https://localhost:8080/",
          "height": 542
        },
        "id": "mGteXavfmtNX",
        "outputId": "8023f52b-2579-4173-932a-4bd5b349e7aa"
      },
      "execution_count": 14,
      "outputs": [
        {
          "output_type": "display_data",
          "data": {
            "text/html": [
              "<html>\n",
              "<head><meta charset=\"utf-8\" /></head>\n",
              "<body>\n",
              "    <div>            <script src=\"https://cdnjs.cloudflare.com/ajax/libs/mathjax/2.7.5/MathJax.js?config=TeX-AMS-MML_SVG\"></script><script type=\"text/javascript\">if (window.MathJax && window.MathJax.Hub && window.MathJax.Hub.Config) {window.MathJax.Hub.Config({SVG: {font: \"STIX-Web\"}});}</script>                <script type=\"text/javascript\">window.PlotlyConfig = {MathJaxConfig: 'local'};</script>\n",
              "        <script charset=\"utf-8\" src=\"https://cdn.plot.ly/plotly-2.35.2.min.js\"></script>                <div id=\"03e4bbba-0c33-47f2-9e53-545b70ce76dc\" class=\"plotly-graph-div\" style=\"height:525px; width:100%;\"></div>            <script type=\"text/javascript\">                                    window.PLOTLYENV=window.PLOTLYENV || {};                                    if (document.getElementById(\"03e4bbba-0c33-47f2-9e53-545b70ce76dc\")) {                    Plotly.newPlot(                        \"03e4bbba-0c33-47f2-9e53-545b70ce76dc\",                        [{\"hovertemplate\":\"Category=A\\u003cbr\\u003eX=%{x}\\u003cbr\\u003eY=%{y}\\u003cbr\\u003eZ=%{marker.size}\\u003cextra\\u003e\\u003c\\u002fextra\\u003e\",\"legendgroup\":\"A\",\"marker\":{\"color\":\"#636efa\",\"size\":[1,2,7,6,9],\"sizemode\":\"area\",\"sizeref\":0.0225,\"symbol\":\"circle\"},\"mode\":\"markers\",\"name\":\"A\",\"scene\":\"scene\",\"showlegend\":true,\"x\":[5,8,6,5,7],\"y\":[99,87,100,103,94],\"z\":[1,2,7,6,9],\"type\":\"scatter3d\"},{\"hovertemplate\":\"Category=B\\u003cbr\\u003eX=%{x}\\u003cbr\\u003eY=%{y}\\u003cbr\\u003eZ=%{marker.size}\\u003cextra\\u003e\\u003c\\u002fextra\\u003e\",\"legendgroup\":\"B\",\"marker\":{\"color\":\"#EF553B\",\"size\":[3,5,8,4,2],\"sizemode\":\"area\",\"sizeref\":0.0225,\"symbol\":\"circle\"},\"mode\":\"markers\",\"name\":\"B\",\"scene\":\"scene\",\"showlegend\":true,\"x\":[7,7,9,6,8],\"y\":[86,88,86,87,78],\"z\":[3,5,8,4,2],\"type\":\"scatter3d\"}],                        {\"template\":{\"data\":{\"histogram2dcontour\":[{\"type\":\"histogram2dcontour\",\"colorbar\":{\"outlinewidth\":0,\"ticks\":\"\"},\"colorscale\":[[0.0,\"#0d0887\"],[0.1111111111111111,\"#46039f\"],[0.2222222222222222,\"#7201a8\"],[0.3333333333333333,\"#9c179e\"],[0.4444444444444444,\"#bd3786\"],[0.5555555555555556,\"#d8576b\"],[0.6666666666666666,\"#ed7953\"],[0.7777777777777778,\"#fb9f3a\"],[0.8888888888888888,\"#fdca26\"],[1.0,\"#f0f921\"]]}],\"choropleth\":[{\"type\":\"choropleth\",\"colorbar\":{\"outlinewidth\":0,\"ticks\":\"\"}}],\"histogram2d\":[{\"type\":\"histogram2d\",\"colorbar\":{\"outlinewidth\":0,\"ticks\":\"\"},\"colorscale\":[[0.0,\"#0d0887\"],[0.1111111111111111,\"#46039f\"],[0.2222222222222222,\"#7201a8\"],[0.3333333333333333,\"#9c179e\"],[0.4444444444444444,\"#bd3786\"],[0.5555555555555556,\"#d8576b\"],[0.6666666666666666,\"#ed7953\"],[0.7777777777777778,\"#fb9f3a\"],[0.8888888888888888,\"#fdca26\"],[1.0,\"#f0f921\"]]}],\"heatmap\":[{\"type\":\"heatmap\",\"colorbar\":{\"outlinewidth\":0,\"ticks\":\"\"},\"colorscale\":[[0.0,\"#0d0887\"],[0.1111111111111111,\"#46039f\"],[0.2222222222222222,\"#7201a8\"],[0.3333333333333333,\"#9c179e\"],[0.4444444444444444,\"#bd3786\"],[0.5555555555555556,\"#d8576b\"],[0.6666666666666666,\"#ed7953\"],[0.7777777777777778,\"#fb9f3a\"],[0.8888888888888888,\"#fdca26\"],[1.0,\"#f0f921\"]]}],\"heatmapgl\":[{\"type\":\"heatmapgl\",\"colorbar\":{\"outlinewidth\":0,\"ticks\":\"\"},\"colorscale\":[[0.0,\"#0d0887\"],[0.1111111111111111,\"#46039f\"],[0.2222222222222222,\"#7201a8\"],[0.3333333333333333,\"#9c179e\"],[0.4444444444444444,\"#bd3786\"],[0.5555555555555556,\"#d8576b\"],[0.6666666666666666,\"#ed7953\"],[0.7777777777777778,\"#fb9f3a\"],[0.8888888888888888,\"#fdca26\"],[1.0,\"#f0f921\"]]}],\"contourcarpet\":[{\"type\":\"contourcarpet\",\"colorbar\":{\"outlinewidth\":0,\"ticks\":\"\"}}],\"contour\":[{\"type\":\"contour\",\"colorbar\":{\"outlinewidth\":0,\"ticks\":\"\"},\"colorscale\":[[0.0,\"#0d0887\"],[0.1111111111111111,\"#46039f\"],[0.2222222222222222,\"#7201a8\"],[0.3333333333333333,\"#9c179e\"],[0.4444444444444444,\"#bd3786\"],[0.5555555555555556,\"#d8576b\"],[0.6666666666666666,\"#ed7953\"],[0.7777777777777778,\"#fb9f3a\"],[0.8888888888888888,\"#fdca26\"],[1.0,\"#f0f921\"]]}],\"surface\":[{\"type\":\"surface\",\"colorbar\":{\"outlinewidth\":0,\"ticks\":\"\"},\"colorscale\":[[0.0,\"#0d0887\"],[0.1111111111111111,\"#46039f\"],[0.2222222222222222,\"#7201a8\"],[0.3333333333333333,\"#9c179e\"],[0.4444444444444444,\"#bd3786\"],[0.5555555555555556,\"#d8576b\"],[0.6666666666666666,\"#ed7953\"],[0.7777777777777778,\"#fb9f3a\"],[0.8888888888888888,\"#fdca26\"],[1.0,\"#f0f921\"]]}],\"mesh3d\":[{\"type\":\"mesh3d\",\"colorbar\":{\"outlinewidth\":0,\"ticks\":\"\"}}],\"scatter\":[{\"fillpattern\":{\"fillmode\":\"overlay\",\"size\":10,\"solidity\":0.2},\"type\":\"scatter\"}],\"parcoords\":[{\"type\":\"parcoords\",\"line\":{\"colorbar\":{\"outlinewidth\":0,\"ticks\":\"\"}}}],\"scatterpolargl\":[{\"type\":\"scatterpolargl\",\"marker\":{\"colorbar\":{\"outlinewidth\":0,\"ticks\":\"\"}}}],\"bar\":[{\"error_x\":{\"color\":\"#2a3f5f\"},\"error_y\":{\"color\":\"#2a3f5f\"},\"marker\":{\"line\":{\"color\":\"#E5ECF6\",\"width\":0.5},\"pattern\":{\"fillmode\":\"overlay\",\"size\":10,\"solidity\":0.2}},\"type\":\"bar\"}],\"scattergeo\":[{\"type\":\"scattergeo\",\"marker\":{\"colorbar\":{\"outlinewidth\":0,\"ticks\":\"\"}}}],\"scatterpolar\":[{\"type\":\"scatterpolar\",\"marker\":{\"colorbar\":{\"outlinewidth\":0,\"ticks\":\"\"}}}],\"histogram\":[{\"marker\":{\"pattern\":{\"fillmode\":\"overlay\",\"size\":10,\"solidity\":0.2}},\"type\":\"histogram\"}],\"scattergl\":[{\"type\":\"scattergl\",\"marker\":{\"colorbar\":{\"outlinewidth\":0,\"ticks\":\"\"}}}],\"scatter3d\":[{\"type\":\"scatter3d\",\"line\":{\"colorbar\":{\"outlinewidth\":0,\"ticks\":\"\"}},\"marker\":{\"colorbar\":{\"outlinewidth\":0,\"ticks\":\"\"}}}],\"scattermapbox\":[{\"type\":\"scattermapbox\",\"marker\":{\"colorbar\":{\"outlinewidth\":0,\"ticks\":\"\"}}}],\"scatterternary\":[{\"type\":\"scatterternary\",\"marker\":{\"colorbar\":{\"outlinewidth\":0,\"ticks\":\"\"}}}],\"scattercarpet\":[{\"type\":\"scattercarpet\",\"marker\":{\"colorbar\":{\"outlinewidth\":0,\"ticks\":\"\"}}}],\"carpet\":[{\"aaxis\":{\"endlinecolor\":\"#2a3f5f\",\"gridcolor\":\"white\",\"linecolor\":\"white\",\"minorgridcolor\":\"white\",\"startlinecolor\":\"#2a3f5f\"},\"baxis\":{\"endlinecolor\":\"#2a3f5f\",\"gridcolor\":\"white\",\"linecolor\":\"white\",\"minorgridcolor\":\"white\",\"startlinecolor\":\"#2a3f5f\"},\"type\":\"carpet\"}],\"table\":[{\"cells\":{\"fill\":{\"color\":\"#EBF0F8\"},\"line\":{\"color\":\"white\"}},\"header\":{\"fill\":{\"color\":\"#C8D4E3\"},\"line\":{\"color\":\"white\"}},\"type\":\"table\"}],\"barpolar\":[{\"marker\":{\"line\":{\"color\":\"#E5ECF6\",\"width\":0.5},\"pattern\":{\"fillmode\":\"overlay\",\"size\":10,\"solidity\":0.2}},\"type\":\"barpolar\"}],\"pie\":[{\"automargin\":true,\"type\":\"pie\"}]},\"layout\":{\"autotypenumbers\":\"strict\",\"colorway\":[\"#636efa\",\"#EF553B\",\"#00cc96\",\"#ab63fa\",\"#FFA15A\",\"#19d3f3\",\"#FF6692\",\"#B6E880\",\"#FF97FF\",\"#FECB52\"],\"font\":{\"color\":\"#2a3f5f\"},\"hovermode\":\"closest\",\"hoverlabel\":{\"align\":\"left\"},\"paper_bgcolor\":\"white\",\"plot_bgcolor\":\"#E5ECF6\",\"polar\":{\"bgcolor\":\"#E5ECF6\",\"angularaxis\":{\"gridcolor\":\"white\",\"linecolor\":\"white\",\"ticks\":\"\"},\"radialaxis\":{\"gridcolor\":\"white\",\"linecolor\":\"white\",\"ticks\":\"\"}},\"ternary\":{\"bgcolor\":\"#E5ECF6\",\"aaxis\":{\"gridcolor\":\"white\",\"linecolor\":\"white\",\"ticks\":\"\"},\"baxis\":{\"gridcolor\":\"white\",\"linecolor\":\"white\",\"ticks\":\"\"},\"caxis\":{\"gridcolor\":\"white\",\"linecolor\":\"white\",\"ticks\":\"\"}},\"coloraxis\":{\"colorbar\":{\"outlinewidth\":0,\"ticks\":\"\"}},\"colorscale\":{\"sequential\":[[0.0,\"#0d0887\"],[0.1111111111111111,\"#46039f\"],[0.2222222222222222,\"#7201a8\"],[0.3333333333333333,\"#9c179e\"],[0.4444444444444444,\"#bd3786\"],[0.5555555555555556,\"#d8576b\"],[0.6666666666666666,\"#ed7953\"],[0.7777777777777778,\"#fb9f3a\"],[0.8888888888888888,\"#fdca26\"],[1.0,\"#f0f921\"]],\"sequentialminus\":[[0.0,\"#0d0887\"],[0.1111111111111111,\"#46039f\"],[0.2222222222222222,\"#7201a8\"],[0.3333333333333333,\"#9c179e\"],[0.4444444444444444,\"#bd3786\"],[0.5555555555555556,\"#d8576b\"],[0.6666666666666666,\"#ed7953\"],[0.7777777777777778,\"#fb9f3a\"],[0.8888888888888888,\"#fdca26\"],[1.0,\"#f0f921\"]],\"diverging\":[[0,\"#8e0152\"],[0.1,\"#c51b7d\"],[0.2,\"#de77ae\"],[0.3,\"#f1b6da\"],[0.4,\"#fde0ef\"],[0.5,\"#f7f7f7\"],[0.6,\"#e6f5d0\"],[0.7,\"#b8e186\"],[0.8,\"#7fbc41\"],[0.9,\"#4d9221\"],[1,\"#276419\"]]},\"xaxis\":{\"gridcolor\":\"white\",\"linecolor\":\"white\",\"ticks\":\"\",\"title\":{\"standoff\":15},\"zerolinecolor\":\"white\",\"automargin\":true,\"zerolinewidth\":2},\"yaxis\":{\"gridcolor\":\"white\",\"linecolor\":\"white\",\"ticks\":\"\",\"title\":{\"standoff\":15},\"zerolinecolor\":\"white\",\"automargin\":true,\"zerolinewidth\":2},\"scene\":{\"xaxis\":{\"backgroundcolor\":\"#E5ECF6\",\"gridcolor\":\"white\",\"linecolor\":\"white\",\"showbackground\":true,\"ticks\":\"\",\"zerolinecolor\":\"white\",\"gridwidth\":2},\"yaxis\":{\"backgroundcolor\":\"#E5ECF6\",\"gridcolor\":\"white\",\"linecolor\":\"white\",\"showbackground\":true,\"ticks\":\"\",\"zerolinecolor\":\"white\",\"gridwidth\":2},\"zaxis\":{\"backgroundcolor\":\"#E5ECF6\",\"gridcolor\":\"white\",\"linecolor\":\"white\",\"showbackground\":true,\"ticks\":\"\",\"zerolinecolor\":\"white\",\"gridwidth\":2}},\"shapedefaults\":{\"line\":{\"color\":\"#2a3f5f\"}},\"annotationdefaults\":{\"arrowcolor\":\"#2a3f5f\",\"arrowhead\":0,\"arrowwidth\":1},\"geo\":{\"bgcolor\":\"white\",\"landcolor\":\"#E5ECF6\",\"subunitcolor\":\"white\",\"showland\":true,\"showlakes\":true,\"lakecolor\":\"white\"},\"title\":{\"x\":0.05},\"mapbox\":{\"style\":\"light\"}}},\"scene\":{\"domain\":{\"x\":[0.0,1.0],\"y\":[0.0,1.0]},\"xaxis\":{\"title\":{\"text\":\"X\"}},\"yaxis\":{\"title\":{\"text\":\"Y\"}},\"zaxis\":{\"title\":{\"text\":\"Z\"}}},\"legend\":{\"title\":{\"text\":\"Category\"},\"tracegroupgap\":0,\"itemsizing\":\"constant\"},\"title\":{\"text\":\"3D Scatter Plot Example\"}},                        {\"responsive\": true}                    ).then(function(){\n",
              "                            \n",
              "var gd = document.getElementById('03e4bbba-0c33-47f2-9e53-545b70ce76dc');\n",
              "var x = new MutationObserver(function (mutations, observer) {{\n",
              "        var display = window.getComputedStyle(gd).display;\n",
              "        if (!display || display === 'none') {{\n",
              "            console.log([gd, 'removed!']);\n",
              "            Plotly.purge(gd);\n",
              "            observer.disconnect();\n",
              "        }}\n",
              "}});\n",
              "\n",
              "// Listen for the removal of the full notebook cells\n",
              "var notebookContainer = gd.closest('#notebook-container');\n",
              "if (notebookContainer) {{\n",
              "    x.observe(notebookContainer, {childList: true});\n",
              "}}\n",
              "\n",
              "// Listen for the clearing of the current output cell\n",
              "var outputEl = gd.closest('.output');\n",
              "if (outputEl) {{\n",
              "    x.observe(outputEl, {childList: true});\n",
              "}}\n",
              "\n",
              "                        })                };                            </script>        </div>\n",
              "</body>\n",
              "</html>"
            ]
          },
          "metadata": {}
        }
      ]
    },
    {
      "cell_type": "code",
      "source": [],
      "metadata": {
        "id": "GhbyHJeSmtKD"
      },
      "execution_count": null,
      "outputs": []
    },
    {
      "cell_type": "code",
      "source": [],
      "metadata": {
        "id": "t18VCcGBmtDI"
      },
      "execution_count": null,
      "outputs": []
    },
    {
      "cell_type": "code",
      "source": [],
      "metadata": {
        "id": "UaCvPzfVms8U"
      },
      "execution_count": null,
      "outputs": []
    },
    {
      "cell_type": "code",
      "source": [],
      "metadata": {
        "id": "IdHnDY4Fms35"
      },
      "execution_count": null,
      "outputs": []
    }
  ]
}